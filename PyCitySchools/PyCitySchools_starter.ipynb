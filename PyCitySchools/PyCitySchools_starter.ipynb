{
 "cells": [
  {
   "cell_type": "markdown",
   "metadata": {},
   "source": [
    "### PyCitySchools\n",
    "* Kirsteen Lugtu 25-Sep-2021"
   ]
  },
  {
   "cell_type": "code",
   "execution_count": 79,
   "metadata": {},
   "outputs": [],
   "source": [
    "# Dependencies and Setup\n",
    "import pandas as pd\n",
    "\n",
    "# File to Load (Remember to Change These)\n",
    "school_data_to_load = \"Resources/schools_complete.csv\"\n",
    "student_data_to_load = \"Resources/students_complete.csv\"\n",
    "\n",
    "# Read School and Student Data File and store into Pandas DataFrames\n",
    "school_data = pd.read_csv(school_data_to_load)\n",
    "student_data = pd.read_csv(student_data_to_load)\n",
    "\n",
    "# Combine the data into a single dataset.  \n",
    "school_data_complete = pd.merge(student_data, school_data, how=\"left\", on=[\"school_name\", \"school_name\"])"
   ]
  },
  {
   "cell_type": "code",
   "execution_count": 80,
   "metadata": {},
   "outputs": [],
   "source": [
    "totalSchool = school_data['School ID'].count()"
   ]
  },
  {
   "cell_type": "code",
   "execution_count": 81,
   "metadata": {},
   "outputs": [],
   "source": [
    "totalStudent = student_data['student_name'].count()"
   ]
  },
  {
   "cell_type": "code",
   "execution_count": 82,
   "metadata": {},
   "outputs": [],
   "source": [
    "totalBudget = school_data['budget'].sum()"
   ]
  },
  {
   "cell_type": "code",
   "execution_count": 83,
   "metadata": {},
   "outputs": [],
   "source": [
    "avgMathScore = student_data['math_score'].mean()"
   ]
  },
  {
   "cell_type": "code",
   "execution_count": 85,
   "metadata": {},
   "outputs": [],
   "source": [
    "avgReadScore = student_data['reading_score'].mean()"
   ]
  },
  {
   "cell_type": "code",
   "execution_count": 88,
   "metadata": {},
   "outputs": [],
   "source": [
    "studentsPassMath_df = school_data_complete.loc[school_data_complete['math_score'] >= 70,:]\n",
    "totalCountStudPassMath = studentsPassMath_df['student_name'].count()\n",
    "\n",
    "percentStudPassMath = (totalCountStudPassMath/totalStudent)*100"
   ]
  },
  {
   "cell_type": "code",
   "execution_count": 89,
   "metadata": {},
   "outputs": [],
   "source": [
    "studentsPassReading_df = school_data_complete.loc[school_data_complete['reading_score'] >= 70,:]\n",
    "totalCountStudPassRead = studentsPassReading_df['student_name'].count()\n",
    "\n",
    "percentStudPassRead = (totalCountStudPassRead/totalStudent)*100"
   ]
  },
  {
   "cell_type": "code",
   "execution_count": 91,
   "metadata": {},
   "outputs": [],
   "source": [
    "studOverallPass_df = school_data_complete.loc[((school_data_complete['math_score'] >=70) & (school_data_complete['reading_score'] >= 70)),:]\n",
    "totalCountStudPass = studOverallPass_df['student_name'].count()\n",
    "\n",
    "percentStudPass = (totalCountStudPass/totalStudent)*100\n"
   ]
  },
  {
   "cell_type": "code",
   "execution_count": 92,
   "metadata": {},
   "outputs": [],
   "source": [
    "districtSummary_df = pd.DataFrame({\n",
    "    'Total Schools' : totalSchool,\n",
    "    'Total Students': totalStudent,\n",
    "    'Total Budget' : totalBudget,\n",
    "    'Average Math Score' : avgMathScore,\n",
    "    'Average Reading Score' : avgReadScore,\n",
    "    '% Passing Math' : percentStudPassMath,\n",
    "    '% Passing Reading' : percentStudPassRead,\n",
    "    '% Overall Passing' : [percentStudPass]\n",
    "})"
   ]
  },
  {
   "cell_type": "markdown",
   "metadata": {},
   "source": [
    "# District Summary"
   ]
  },
  {
   "cell_type": "code",
   "execution_count": 112,
   "metadata": {},
   "outputs": [
    {
     "data": {
      "text/html": [
       "<div>\n",
       "<style scoped>\n",
       "    .dataframe tbody tr th:only-of-type {\n",
       "        vertical-align: middle;\n",
       "    }\n",
       "\n",
       "    .dataframe tbody tr th {\n",
       "        vertical-align: top;\n",
       "    }\n",
       "\n",
       "    .dataframe thead th {\n",
       "        text-align: right;\n",
       "    }\n",
       "</style>\n",
       "<table border=\"1\" class=\"dataframe\">\n",
       "  <thead>\n",
       "    <tr style=\"text-align: right;\">\n",
       "      <th></th>\n",
       "      <th>Total Schools</th>\n",
       "      <th>Total Students</th>\n",
       "      <th>Total Budget</th>\n",
       "      <th>Average Math Score</th>\n",
       "      <th>Average Reading Score</th>\n",
       "      <th>% Passing Math</th>\n",
       "      <th>% Passing Reading</th>\n",
       "      <th>% Overall Passing</th>\n",
       "    </tr>\n",
       "  </thead>\n",
       "  <tbody>\n",
       "    <tr>\n",
       "      <th>0</th>\n",
       "      <td>15</td>\n",
       "      <td>39170</td>\n",
       "      <td>24649428</td>\n",
       "      <td>78.985371</td>\n",
       "      <td>81.87784</td>\n",
       "      <td>74.980853</td>\n",
       "      <td>85.805463</td>\n",
       "      <td>65.172326</td>\n",
       "    </tr>\n",
       "  </tbody>\n",
       "</table>\n",
       "</div>"
      ],
      "text/plain": [
       "   Total Schools  Total Students  Total Budget  Average Math Score  \\\n",
       "0             15           39170      24649428           78.985371   \n",
       "\n",
       "   Average Reading Score  % Passing Math  % Passing Reading  % Overall Passing  \n",
       "0               81.87784       74.980853          85.805463          65.172326  "
      ]
     },
     "execution_count": 112,
     "metadata": {},
     "output_type": "execute_result"
    }
   ],
   "source": [
    "districtSummary_df "
   ]
  },
  {
   "cell_type": "markdown",
   "metadata": {},
   "source": []
  },
  {
   "cell_type": "markdown",
   "metadata": {},
   "source": [
    "## School Summary"
   ]
  },
  {
   "cell_type": "code",
   "execution_count": 113,
   "metadata": {},
   "outputs": [],
   "source": [
    "#groupby school_data_complete['school_name']\n",
    "groupedBySchool_df = school_data_complete.groupby(['school_name'])"
   ]
  },
  {
   "cell_type": "code",
   "execution_count": 114,
   "metadata": {},
   "outputs": [],
   "source": [
    "# extract data needed\n",
    "school_data_clean = school_data_complete[['school_name','type','size','budget','math_score', 'reading_score']]"
   ]
  },
  {
   "cell_type": "code",
   "execution_count": 115,
   "metadata": {},
   "outputs": [],
   "source": [
    "# group by school\n",
    "schoolByGroup = school_data_clean.groupby(['school_name'])\n",
    "\n",
    "# get mean of all values for each school (size, budget are same values for each school)\n",
    "school_summary_df = schoolByGroup.mean() "
   ]
  },
  {
   "cell_type": "code",
   "execution_count": 116,
   "metadata": {},
   "outputs": [],
   "source": [
    "# per student budget\n",
    "school_summary_df['Per Student Budget'] = (school_summary_df['budget']) / (school_summary_df['size'])\n",
    "#school_summary_df['Per Student Budget'] = '${:,.2f}'.format(school_summary_df['Per Student Budget'])\n"
   ]
  },
  {
   "cell_type": "code",
   "execution_count": 117,
   "metadata": {},
   "outputs": [],
   "source": [
    "# % passing math\n",
    "passMathCountPerSchool = (studentsPassMath_df.groupby(['school_name'])).count()\n",
    "passMathCountPerSchool = passMathCountPerSchool['math_score']"
   ]
  },
  {
   "cell_type": "code",
   "execution_count": 118,
   "metadata": {},
   "outputs": [],
   "source": [
    "school_summary1 = pd.merge(school_summary_df,passMathCountPerSchool, on='school_name')\n",
    "school_summary1['% Passing Math'] = (school_summary1['math_score_y']/school_summary1['size'])*100"
   ]
  },
  {
   "cell_type": "code",
   "execution_count": 119,
   "metadata": {},
   "outputs": [],
   "source": [
    "# % passing reading\n",
    "passReadCountPerSchool = (studentsPassReading_df.groupby(['school_name'])).count()\n",
    "passReadCountPerSchool = passReadCountPerSchool['reading_score']\n",
    "\n",
    "school_summary2 = pd.merge(school_summary1,passReadCountPerSchool, on='school_name')\n",
    "school_summary2['% Passing Reading'] = (school_summary2['reading_score_y']/school_summary2['size'])*100\n"
   ]
  },
  {
   "cell_type": "code",
   "execution_count": 120,
   "metadata": {},
   "outputs": [],
   "source": [
    "# % passing overall\n",
    "passAllCountPerSchool = (studOverallPass_df.groupby(['school_name'])).count()\n",
    "passAllCountPerSchool = passAllCountPerSchool['Student ID']\n",
    "\n",
    "school_summary3 = pd.merge(school_summary2,passAllCountPerSchool, on='school_name')\n",
    "school_summary3['% Overall Passing'] = (school_summary3['Student ID']/school_summary3['size'])*100"
   ]
  },
  {
   "cell_type": "code",
   "execution_count": 121,
   "metadata": {},
   "outputs": [],
   "source": [
    "school_summary3 = school_summary3[['size','budget','Per Student Budget',\n",
    "                                   'math_score_x','reading_score_x',\n",
    "                                   '% Passing Math','% Passing Reading','% Overall Passing']]"
   ]
  },
  {
   "cell_type": "code",
   "execution_count": 123,
   "metadata": {},
   "outputs": [],
   "source": [
    "school_summary_final = pd.merge(schoolType, school_summary3, on='school_name')\n",
    "school_summary_final.set_index('school_name')\n",
    "\n",
    "school_summary_final = school_summary_final.rename(columns={'type' : 'School Type',\n",
    "                                                           'size' : 'Total Students',\n",
    "                                                           'budget' : 'Total Budget',\n",
    "                                                           'math_score_x' : 'Average Math Score',\n",
    "                                                           'reading_score_x' : 'Average Reading Score'})\n"
   ]
  },
  {
   "cell_type": "markdown",
   "metadata": {},
   "source": [
    "## School Summary"
   ]
  },
  {
   "cell_type": "code",
   "execution_count": 124,
   "metadata": {},
   "outputs": [
    {
     "data": {
      "text/html": [
       "<div>\n",
       "<style scoped>\n",
       "    .dataframe tbody tr th:only-of-type {\n",
       "        vertical-align: middle;\n",
       "    }\n",
       "\n",
       "    .dataframe tbody tr th {\n",
       "        vertical-align: top;\n",
       "    }\n",
       "\n",
       "    .dataframe thead th {\n",
       "        text-align: right;\n",
       "    }\n",
       "</style>\n",
       "<table border=\"1\" class=\"dataframe\">\n",
       "  <thead>\n",
       "    <tr style=\"text-align: right;\">\n",
       "      <th></th>\n",
       "      <th>School Type</th>\n",
       "      <th>Total Students</th>\n",
       "      <th>Total Budget</th>\n",
       "      <th>Per Student Budget</th>\n",
       "      <th>Average Math Score</th>\n",
       "      <th>Average Reading Score</th>\n",
       "      <th>% Passing Math</th>\n",
       "      <th>% Passing Reading</th>\n",
       "      <th>% Overall Passing</th>\n",
       "    </tr>\n",
       "    <tr>\n",
       "      <th>school_name</th>\n",
       "      <th></th>\n",
       "      <th></th>\n",
       "      <th></th>\n",
       "      <th></th>\n",
       "      <th></th>\n",
       "      <th></th>\n",
       "      <th></th>\n",
       "      <th></th>\n",
       "      <th></th>\n",
       "    </tr>\n",
       "  </thead>\n",
       "  <tbody>\n",
       "    <tr>\n",
       "      <th>Huang High School</th>\n",
       "      <td>District</td>\n",
       "      <td>2917.0</td>\n",
       "      <td>1910635.0</td>\n",
       "      <td>655.0</td>\n",
       "      <td>76.629414</td>\n",
       "      <td>81.182722</td>\n",
       "      <td>65.683922</td>\n",
       "      <td>81.316421</td>\n",
       "      <td>53.513884</td>\n",
       "    </tr>\n",
       "    <tr>\n",
       "      <th>Figueroa High School</th>\n",
       "      <td>District</td>\n",
       "      <td>2949.0</td>\n",
       "      <td>1884411.0</td>\n",
       "      <td>639.0</td>\n",
       "      <td>76.711767</td>\n",
       "      <td>81.158020</td>\n",
       "      <td>65.988471</td>\n",
       "      <td>80.739234</td>\n",
       "      <td>53.204476</td>\n",
       "    </tr>\n",
       "    <tr>\n",
       "      <th>Shelton High School</th>\n",
       "      <td>Charter</td>\n",
       "      <td>1761.0</td>\n",
       "      <td>1056600.0</td>\n",
       "      <td>600.0</td>\n",
       "      <td>83.359455</td>\n",
       "      <td>83.725724</td>\n",
       "      <td>93.867121</td>\n",
       "      <td>95.854628</td>\n",
       "      <td>89.892107</td>\n",
       "    </tr>\n",
       "    <tr>\n",
       "      <th>Hernandez High School</th>\n",
       "      <td>District</td>\n",
       "      <td>4635.0</td>\n",
       "      <td>3022020.0</td>\n",
       "      <td>652.0</td>\n",
       "      <td>77.289752</td>\n",
       "      <td>80.934412</td>\n",
       "      <td>66.752967</td>\n",
       "      <td>80.862999</td>\n",
       "      <td>53.527508</td>\n",
       "    </tr>\n",
       "    <tr>\n",
       "      <th>Griffin High School</th>\n",
       "      <td>Charter</td>\n",
       "      <td>1468.0</td>\n",
       "      <td>917500.0</td>\n",
       "      <td>625.0</td>\n",
       "      <td>83.351499</td>\n",
       "      <td>83.816757</td>\n",
       "      <td>93.392371</td>\n",
       "      <td>97.138965</td>\n",
       "      <td>90.599455</td>\n",
       "    </tr>\n",
       "    <tr>\n",
       "      <th>Wilson High School</th>\n",
       "      <td>Charter</td>\n",
       "      <td>2283.0</td>\n",
       "      <td>1319574.0</td>\n",
       "      <td>578.0</td>\n",
       "      <td>83.274201</td>\n",
       "      <td>83.989488</td>\n",
       "      <td>93.867718</td>\n",
       "      <td>96.539641</td>\n",
       "      <td>90.582567</td>\n",
       "    </tr>\n",
       "    <tr>\n",
       "      <th>Cabrera High School</th>\n",
       "      <td>Charter</td>\n",
       "      <td>1858.0</td>\n",
       "      <td>1081356.0</td>\n",
       "      <td>582.0</td>\n",
       "      <td>83.061895</td>\n",
       "      <td>83.975780</td>\n",
       "      <td>94.133477</td>\n",
       "      <td>97.039828</td>\n",
       "      <td>91.334769</td>\n",
       "    </tr>\n",
       "    <tr>\n",
       "      <th>Bailey High School</th>\n",
       "      <td>District</td>\n",
       "      <td>4976.0</td>\n",
       "      <td>3124928.0</td>\n",
       "      <td>628.0</td>\n",
       "      <td>77.048432</td>\n",
       "      <td>81.033963</td>\n",
       "      <td>66.680064</td>\n",
       "      <td>81.933280</td>\n",
       "      <td>54.642283</td>\n",
       "    </tr>\n",
       "    <tr>\n",
       "      <th>Holden High School</th>\n",
       "      <td>Charter</td>\n",
       "      <td>427.0</td>\n",
       "      <td>248087.0</td>\n",
       "      <td>581.0</td>\n",
       "      <td>83.803279</td>\n",
       "      <td>83.814988</td>\n",
       "      <td>92.505855</td>\n",
       "      <td>96.252927</td>\n",
       "      <td>89.227166</td>\n",
       "    </tr>\n",
       "    <tr>\n",
       "      <th>Pena High School</th>\n",
       "      <td>Charter</td>\n",
       "      <td>962.0</td>\n",
       "      <td>585858.0</td>\n",
       "      <td>609.0</td>\n",
       "      <td>83.839917</td>\n",
       "      <td>84.044699</td>\n",
       "      <td>94.594595</td>\n",
       "      <td>95.945946</td>\n",
       "      <td>90.540541</td>\n",
       "    </tr>\n",
       "    <tr>\n",
       "      <th>Wright High School</th>\n",
       "      <td>Charter</td>\n",
       "      <td>1800.0</td>\n",
       "      <td>1049400.0</td>\n",
       "      <td>583.0</td>\n",
       "      <td>83.682222</td>\n",
       "      <td>83.955000</td>\n",
       "      <td>93.333333</td>\n",
       "      <td>96.611111</td>\n",
       "      <td>90.333333</td>\n",
       "    </tr>\n",
       "    <tr>\n",
       "      <th>Rodriguez High School</th>\n",
       "      <td>District</td>\n",
       "      <td>3999.0</td>\n",
       "      <td>2547363.0</td>\n",
       "      <td>637.0</td>\n",
       "      <td>76.842711</td>\n",
       "      <td>80.744686</td>\n",
       "      <td>66.366592</td>\n",
       "      <td>80.220055</td>\n",
       "      <td>52.988247</td>\n",
       "    </tr>\n",
       "    <tr>\n",
       "      <th>Johnson High School</th>\n",
       "      <td>District</td>\n",
       "      <td>4761.0</td>\n",
       "      <td>3094650.0</td>\n",
       "      <td>650.0</td>\n",
       "      <td>77.072464</td>\n",
       "      <td>80.966394</td>\n",
       "      <td>66.057551</td>\n",
       "      <td>81.222432</td>\n",
       "      <td>53.539172</td>\n",
       "    </tr>\n",
       "    <tr>\n",
       "      <th>Ford High School</th>\n",
       "      <td>District</td>\n",
       "      <td>2739.0</td>\n",
       "      <td>1763916.0</td>\n",
       "      <td>644.0</td>\n",
       "      <td>77.102592</td>\n",
       "      <td>80.746258</td>\n",
       "      <td>68.309602</td>\n",
       "      <td>79.299014</td>\n",
       "      <td>54.289887</td>\n",
       "    </tr>\n",
       "    <tr>\n",
       "      <th>Thomas High School</th>\n",
       "      <td>Charter</td>\n",
       "      <td>1635.0</td>\n",
       "      <td>1043130.0</td>\n",
       "      <td>638.0</td>\n",
       "      <td>83.418349</td>\n",
       "      <td>83.848930</td>\n",
       "      <td>93.272171</td>\n",
       "      <td>97.308869</td>\n",
       "      <td>90.948012</td>\n",
       "    </tr>\n",
       "  </tbody>\n",
       "</table>\n",
       "</div>"
      ],
      "text/plain": [
       "                      School Type  Total Students  Total Budget  \\\n",
       "school_name                                                       \n",
       "Huang High School        District          2917.0     1910635.0   \n",
       "Figueroa High School     District          2949.0     1884411.0   \n",
       "Shelton High School       Charter          1761.0     1056600.0   \n",
       "Hernandez High School    District          4635.0     3022020.0   \n",
       "Griffin High School       Charter          1468.0      917500.0   \n",
       "Wilson High School        Charter          2283.0     1319574.0   \n",
       "Cabrera High School       Charter          1858.0     1081356.0   \n",
       "Bailey High School       District          4976.0     3124928.0   \n",
       "Holden High School        Charter           427.0      248087.0   \n",
       "Pena High School          Charter           962.0      585858.0   \n",
       "Wright High School        Charter          1800.0     1049400.0   \n",
       "Rodriguez High School    District          3999.0     2547363.0   \n",
       "Johnson High School      District          4761.0     3094650.0   \n",
       "Ford High School         District          2739.0     1763916.0   \n",
       "Thomas High School        Charter          1635.0     1043130.0   \n",
       "\n",
       "                       Per Student Budget  Average Math Score  \\\n",
       "school_name                                                     \n",
       "Huang High School                   655.0           76.629414   \n",
       "Figueroa High School                639.0           76.711767   \n",
       "Shelton High School                 600.0           83.359455   \n",
       "Hernandez High School               652.0           77.289752   \n",
       "Griffin High School                 625.0           83.351499   \n",
       "Wilson High School                  578.0           83.274201   \n",
       "Cabrera High School                 582.0           83.061895   \n",
       "Bailey High School                  628.0           77.048432   \n",
       "Holden High School                  581.0           83.803279   \n",
       "Pena High School                    609.0           83.839917   \n",
       "Wright High School                  583.0           83.682222   \n",
       "Rodriguez High School               637.0           76.842711   \n",
       "Johnson High School                 650.0           77.072464   \n",
       "Ford High School                    644.0           77.102592   \n",
       "Thomas High School                  638.0           83.418349   \n",
       "\n",
       "                       Average Reading Score  % Passing Math  \\\n",
       "school_name                                                    \n",
       "Huang High School                  81.182722       65.683922   \n",
       "Figueroa High School               81.158020       65.988471   \n",
       "Shelton High School                83.725724       93.867121   \n",
       "Hernandez High School              80.934412       66.752967   \n",
       "Griffin High School                83.816757       93.392371   \n",
       "Wilson High School                 83.989488       93.867718   \n",
       "Cabrera High School                83.975780       94.133477   \n",
       "Bailey High School                 81.033963       66.680064   \n",
       "Holden High School                 83.814988       92.505855   \n",
       "Pena High School                   84.044699       94.594595   \n",
       "Wright High School                 83.955000       93.333333   \n",
       "Rodriguez High School              80.744686       66.366592   \n",
       "Johnson High School                80.966394       66.057551   \n",
       "Ford High School                   80.746258       68.309602   \n",
       "Thomas High School                 83.848930       93.272171   \n",
       "\n",
       "                       % Passing Reading  % Overall Passing  \n",
       "school_name                                                  \n",
       "Huang High School              81.316421          53.513884  \n",
       "Figueroa High School           80.739234          53.204476  \n",
       "Shelton High School            95.854628          89.892107  \n",
       "Hernandez High School          80.862999          53.527508  \n",
       "Griffin High School            97.138965          90.599455  \n",
       "Wilson High School             96.539641          90.582567  \n",
       "Cabrera High School            97.039828          91.334769  \n",
       "Bailey High School             81.933280          54.642283  \n",
       "Holden High School             96.252927          89.227166  \n",
       "Pena High School               95.945946          90.540541  \n",
       "Wright High School             96.611111          90.333333  \n",
       "Rodriguez High School          80.220055          52.988247  \n",
       "Johnson High School            81.222432          53.539172  \n",
       "Ford High School               79.299014          54.289887  \n",
       "Thomas High School             97.308869          90.948012  "
      ]
     },
     "execution_count": 124,
     "metadata": {},
     "output_type": "execute_result"
    }
   ],
   "source": [
    "school_summary_final.set_index('school_name')"
   ]
  },
  {
   "cell_type": "code",
   "execution_count": null,
   "metadata": {},
   "outputs": [],
   "source": []
  },
  {
   "cell_type": "code",
   "execution_count": 125,
   "metadata": {},
   "outputs": [],
   "source": [
    "topSchool = school_summary_final.sort_values(by='% Overall Passing', ascending=False)\n",
    "topSchool = topSchool.head(5)"
   ]
  },
  {
   "cell_type": "markdown",
   "metadata": {},
   "source": [
    "## Top Performing Schools (By % Overall Passing)"
   ]
  },
  {
   "cell_type": "code",
   "execution_count": 126,
   "metadata": {},
   "outputs": [
    {
     "data": {
      "text/html": [
       "<div>\n",
       "<style scoped>\n",
       "    .dataframe tbody tr th:only-of-type {\n",
       "        vertical-align: middle;\n",
       "    }\n",
       "\n",
       "    .dataframe tbody tr th {\n",
       "        vertical-align: top;\n",
       "    }\n",
       "\n",
       "    .dataframe thead th {\n",
       "        text-align: right;\n",
       "    }\n",
       "</style>\n",
       "<table border=\"1\" class=\"dataframe\">\n",
       "  <thead>\n",
       "    <tr style=\"text-align: right;\">\n",
       "      <th></th>\n",
       "      <th>school_name</th>\n",
       "      <th>School Type</th>\n",
       "      <th>Total Students</th>\n",
       "      <th>Total Budget</th>\n",
       "      <th>Per Student Budget</th>\n",
       "      <th>Average Math Score</th>\n",
       "      <th>Average Reading Score</th>\n",
       "      <th>% Passing Math</th>\n",
       "      <th>% Passing Reading</th>\n",
       "      <th>% Overall Passing</th>\n",
       "    </tr>\n",
       "  </thead>\n",
       "  <tbody>\n",
       "    <tr>\n",
       "      <th>6</th>\n",
       "      <td>Cabrera High School</td>\n",
       "      <td>Charter</td>\n",
       "      <td>1858.0</td>\n",
       "      <td>1081356.0</td>\n",
       "      <td>582.0</td>\n",
       "      <td>83.061895</td>\n",
       "      <td>83.975780</td>\n",
       "      <td>94.133477</td>\n",
       "      <td>97.039828</td>\n",
       "      <td>91.334769</td>\n",
       "    </tr>\n",
       "    <tr>\n",
       "      <th>14</th>\n",
       "      <td>Thomas High School</td>\n",
       "      <td>Charter</td>\n",
       "      <td>1635.0</td>\n",
       "      <td>1043130.0</td>\n",
       "      <td>638.0</td>\n",
       "      <td>83.418349</td>\n",
       "      <td>83.848930</td>\n",
       "      <td>93.272171</td>\n",
       "      <td>97.308869</td>\n",
       "      <td>90.948012</td>\n",
       "    </tr>\n",
       "    <tr>\n",
       "      <th>4</th>\n",
       "      <td>Griffin High School</td>\n",
       "      <td>Charter</td>\n",
       "      <td>1468.0</td>\n",
       "      <td>917500.0</td>\n",
       "      <td>625.0</td>\n",
       "      <td>83.351499</td>\n",
       "      <td>83.816757</td>\n",
       "      <td>93.392371</td>\n",
       "      <td>97.138965</td>\n",
       "      <td>90.599455</td>\n",
       "    </tr>\n",
       "    <tr>\n",
       "      <th>5</th>\n",
       "      <td>Wilson High School</td>\n",
       "      <td>Charter</td>\n",
       "      <td>2283.0</td>\n",
       "      <td>1319574.0</td>\n",
       "      <td>578.0</td>\n",
       "      <td>83.274201</td>\n",
       "      <td>83.989488</td>\n",
       "      <td>93.867718</td>\n",
       "      <td>96.539641</td>\n",
       "      <td>90.582567</td>\n",
       "    </tr>\n",
       "    <tr>\n",
       "      <th>9</th>\n",
       "      <td>Pena High School</td>\n",
       "      <td>Charter</td>\n",
       "      <td>962.0</td>\n",
       "      <td>585858.0</td>\n",
       "      <td>609.0</td>\n",
       "      <td>83.839917</td>\n",
       "      <td>84.044699</td>\n",
       "      <td>94.594595</td>\n",
       "      <td>95.945946</td>\n",
       "      <td>90.540541</td>\n",
       "    </tr>\n",
       "  </tbody>\n",
       "</table>\n",
       "</div>"
      ],
      "text/plain": [
       "            school_name School Type  Total Students  Total Budget  \\\n",
       "6   Cabrera High School     Charter          1858.0     1081356.0   \n",
       "14   Thomas High School     Charter          1635.0     1043130.0   \n",
       "4   Griffin High School     Charter          1468.0      917500.0   \n",
       "5    Wilson High School     Charter          2283.0     1319574.0   \n",
       "9      Pena High School     Charter           962.0      585858.0   \n",
       "\n",
       "    Per Student Budget  Average Math Score  Average Reading Score  \\\n",
       "6                582.0           83.061895              83.975780   \n",
       "14               638.0           83.418349              83.848930   \n",
       "4                625.0           83.351499              83.816757   \n",
       "5                578.0           83.274201              83.989488   \n",
       "9                609.0           83.839917              84.044699   \n",
       "\n",
       "    % Passing Math  % Passing Reading  % Overall Passing  \n",
       "6        94.133477          97.039828          91.334769  \n",
       "14       93.272171          97.308869          90.948012  \n",
       "4        93.392371          97.138965          90.599455  \n",
       "5        93.867718          96.539641          90.582567  \n",
       "9        94.594595          95.945946          90.540541  "
      ]
     },
     "execution_count": 126,
     "metadata": {},
     "output_type": "execute_result"
    }
   ],
   "source": [
    "topSchool"
   ]
  },
  {
   "cell_type": "code",
   "execution_count": null,
   "metadata": {},
   "outputs": [],
   "source": []
  },
  {
   "cell_type": "code",
   "execution_count": 127,
   "metadata": {},
   "outputs": [],
   "source": [
    "bottomSchool = school_summary_final.sort_values(by='% Overall Passing')\n",
    "bottomSchool = bottomSchool.head(5)"
   ]
  },
  {
   "cell_type": "markdown",
   "metadata": {},
   "source": [
    "## Bottom Performing Schools (By % Overall Passing)"
   ]
  },
  {
   "cell_type": "code",
   "execution_count": 128,
   "metadata": {},
   "outputs": [
    {
     "data": {
      "text/html": [
       "<div>\n",
       "<style scoped>\n",
       "    .dataframe tbody tr th:only-of-type {\n",
       "        vertical-align: middle;\n",
       "    }\n",
       "\n",
       "    .dataframe tbody tr th {\n",
       "        vertical-align: top;\n",
       "    }\n",
       "\n",
       "    .dataframe thead th {\n",
       "        text-align: right;\n",
       "    }\n",
       "</style>\n",
       "<table border=\"1\" class=\"dataframe\">\n",
       "  <thead>\n",
       "    <tr style=\"text-align: right;\">\n",
       "      <th></th>\n",
       "      <th>school_name</th>\n",
       "      <th>School Type</th>\n",
       "      <th>Total Students</th>\n",
       "      <th>Total Budget</th>\n",
       "      <th>Per Student Budget</th>\n",
       "      <th>Average Math Score</th>\n",
       "      <th>Average Reading Score</th>\n",
       "      <th>% Passing Math</th>\n",
       "      <th>% Passing Reading</th>\n",
       "      <th>% Overall Passing</th>\n",
       "    </tr>\n",
       "  </thead>\n",
       "  <tbody>\n",
       "    <tr>\n",
       "      <th>11</th>\n",
       "      <td>Rodriguez High School</td>\n",
       "      <td>District</td>\n",
       "      <td>3999.0</td>\n",
       "      <td>2547363.0</td>\n",
       "      <td>637.0</td>\n",
       "      <td>76.842711</td>\n",
       "      <td>80.744686</td>\n",
       "      <td>66.366592</td>\n",
       "      <td>80.220055</td>\n",
       "      <td>52.988247</td>\n",
       "    </tr>\n",
       "    <tr>\n",
       "      <th>1</th>\n",
       "      <td>Figueroa High School</td>\n",
       "      <td>District</td>\n",
       "      <td>2949.0</td>\n",
       "      <td>1884411.0</td>\n",
       "      <td>639.0</td>\n",
       "      <td>76.711767</td>\n",
       "      <td>81.158020</td>\n",
       "      <td>65.988471</td>\n",
       "      <td>80.739234</td>\n",
       "      <td>53.204476</td>\n",
       "    </tr>\n",
       "    <tr>\n",
       "      <th>0</th>\n",
       "      <td>Huang High School</td>\n",
       "      <td>District</td>\n",
       "      <td>2917.0</td>\n",
       "      <td>1910635.0</td>\n",
       "      <td>655.0</td>\n",
       "      <td>76.629414</td>\n",
       "      <td>81.182722</td>\n",
       "      <td>65.683922</td>\n",
       "      <td>81.316421</td>\n",
       "      <td>53.513884</td>\n",
       "    </tr>\n",
       "    <tr>\n",
       "      <th>3</th>\n",
       "      <td>Hernandez High School</td>\n",
       "      <td>District</td>\n",
       "      <td>4635.0</td>\n",
       "      <td>3022020.0</td>\n",
       "      <td>652.0</td>\n",
       "      <td>77.289752</td>\n",
       "      <td>80.934412</td>\n",
       "      <td>66.752967</td>\n",
       "      <td>80.862999</td>\n",
       "      <td>53.527508</td>\n",
       "    </tr>\n",
       "    <tr>\n",
       "      <th>12</th>\n",
       "      <td>Johnson High School</td>\n",
       "      <td>District</td>\n",
       "      <td>4761.0</td>\n",
       "      <td>3094650.0</td>\n",
       "      <td>650.0</td>\n",
       "      <td>77.072464</td>\n",
       "      <td>80.966394</td>\n",
       "      <td>66.057551</td>\n",
       "      <td>81.222432</td>\n",
       "      <td>53.539172</td>\n",
       "    </tr>\n",
       "  </tbody>\n",
       "</table>\n",
       "</div>"
      ],
      "text/plain": [
       "              school_name School Type  Total Students  Total Budget  \\\n",
       "11  Rodriguez High School    District          3999.0     2547363.0   \n",
       "1    Figueroa High School    District          2949.0     1884411.0   \n",
       "0       Huang High School    District          2917.0     1910635.0   \n",
       "3   Hernandez High School    District          4635.0     3022020.0   \n",
       "12    Johnson High School    District          4761.0     3094650.0   \n",
       "\n",
       "    Per Student Budget  Average Math Score  Average Reading Score  \\\n",
       "11               637.0           76.842711              80.744686   \n",
       "1                639.0           76.711767              81.158020   \n",
       "0                655.0           76.629414              81.182722   \n",
       "3                652.0           77.289752              80.934412   \n",
       "12               650.0           77.072464              80.966394   \n",
       "\n",
       "    % Passing Math  % Passing Reading  % Overall Passing  \n",
       "11       66.366592          80.220055          52.988247  \n",
       "1        65.988471          80.739234          53.204476  \n",
       "0        65.683922          81.316421          53.513884  \n",
       "3        66.752967          80.862999          53.527508  \n",
       "12       66.057551          81.222432          53.539172  "
      ]
     },
     "execution_count": 128,
     "metadata": {},
     "output_type": "execute_result"
    }
   ],
   "source": [
    "bottomSchool"
   ]
  },
  {
   "cell_type": "code",
   "execution_count": null,
   "metadata": {},
   "outputs": [],
   "source": []
  },
  {
   "cell_type": "markdown",
   "metadata": {
    "collapsed": true
   },
   "source": [
    "## Math Scores by Grade"
   ]
  },
  {
   "cell_type": "markdown",
   "metadata": {},
   "source": [
    "* Create a table that lists the average Reading Score for students of each grade level (9th, 10th, 11th, 12th) at each school.\n",
    "\n",
    "  * Create a pandas series for each grade. Hint: use a conditional statement.\n",
    "  \n",
    "  * Group each series by school\n",
    "  \n",
    "  * Combine the series into a dataframe\n",
    "  \n",
    "  * Optional: give the displayed data cleaner formatting"
   ]
  },
  {
   "cell_type": "code",
   "execution_count": 129,
   "metadata": {},
   "outputs": [],
   "source": [
    "# get series of students within each grade\n",
    "students9th = student_data.loc[student_data['grade'] == '9th',:] \n",
    "students10th = student_data.loc[student_data['grade'] == '10th',:] \n",
    "students11th = student_data.loc[student_data['grade'] == '11th',:] \n",
    "students12th = student_data.loc[student_data['grade'] == '12th',:] "
   ]
  },
  {
   "cell_type": "code",
   "execution_count": 130,
   "metadata": {},
   "outputs": [],
   "source": [
    "# group by schools and get means\n",
    "schoolMeans9th = students9th.groupby(['school_name']).mean()\n",
    "schoolMeans10th = students10th.groupby(['school_name']).mean()\n",
    "schoolMeans11th = students11th.groupby(['school_name']).mean()\n",
    "schoolMeans12th = students12th.groupby(['school_name']).mean()"
   ]
  },
  {
   "cell_type": "code",
   "execution_count": 131,
   "metadata": {},
   "outputs": [],
   "source": [
    "schoolMeans1 = pd.merge(schoolMeans9th, schoolMeans10th, on='school_name', suffixes=('9th','10th'))"
   ]
  },
  {
   "cell_type": "code",
   "execution_count": 132,
   "metadata": {},
   "outputs": [],
   "source": [
    "schoolMeans2 = pd.merge(schoolMeans1, schoolMeans11th, on='school_name', suffixes=('x','11th'))\n",
    "schoolMeansAll = pd.merge(schoolMeans2, schoolMeans12th, on='school_name', suffixes=('11th','12th'))"
   ]
  },
  {
   "cell_type": "code",
   "execution_count": null,
   "metadata": {},
   "outputs": [],
   "source": [
    "# Math scores by grade\n",
    "schoolMathMeans = schoolMeansAll[['math_score9th','math_score10th','math_score11th', 'math_score12th']]\n",
    "schoolMathMeans = schoolMathMeans.rename(columns={'math_score9th' : '9th grade Avg Math Score ',\n",
    "                                                  'math_score10th' : '10th grade Avg Math Score ',\n",
    "                                                  'math_score11th' : '11th grade Avg Math Score ', \n",
    "                                                  'math_score12th' : '12th grade Avg Math Score '})"
   ]
  },
  {
   "cell_type": "markdown",
   "metadata": {
    "collapsed": true
   },
   "source": [
    "## Math Scores by Grade"
   ]
  },
  {
   "cell_type": "code",
   "execution_count": 133,
   "metadata": {},
   "outputs": [
    {
     "data": {
      "text/html": [
       "<div>\n",
       "<style scoped>\n",
       "    .dataframe tbody tr th:only-of-type {\n",
       "        vertical-align: middle;\n",
       "    }\n",
       "\n",
       "    .dataframe tbody tr th {\n",
       "        vertical-align: top;\n",
       "    }\n",
       "\n",
       "    .dataframe thead th {\n",
       "        text-align: right;\n",
       "    }\n",
       "</style>\n",
       "<table border=\"1\" class=\"dataframe\">\n",
       "  <thead>\n",
       "    <tr style=\"text-align: right;\">\n",
       "      <th></th>\n",
       "      <th>9th grade Avg Math Score</th>\n",
       "      <th>10th grade Avg Math Score</th>\n",
       "      <th>11th grade Avg Math Score</th>\n",
       "      <th>12th grade Avg Math Score</th>\n",
       "    </tr>\n",
       "    <tr>\n",
       "      <th>school_name</th>\n",
       "      <th></th>\n",
       "      <th></th>\n",
       "      <th></th>\n",
       "      <th></th>\n",
       "    </tr>\n",
       "  </thead>\n",
       "  <tbody>\n",
       "    <tr>\n",
       "      <th>Bailey High School</th>\n",
       "      <td>77.083676</td>\n",
       "      <td>76.996772</td>\n",
       "      <td>77.515588</td>\n",
       "      <td>76.492218</td>\n",
       "    </tr>\n",
       "    <tr>\n",
       "      <th>Cabrera High School</th>\n",
       "      <td>83.094697</td>\n",
       "      <td>83.154506</td>\n",
       "      <td>82.765560</td>\n",
       "      <td>83.277487</td>\n",
       "    </tr>\n",
       "    <tr>\n",
       "      <th>Figueroa High School</th>\n",
       "      <td>76.403037</td>\n",
       "      <td>76.539974</td>\n",
       "      <td>76.884344</td>\n",
       "      <td>77.151369</td>\n",
       "    </tr>\n",
       "    <tr>\n",
       "      <th>Ford High School</th>\n",
       "      <td>77.361345</td>\n",
       "      <td>77.672316</td>\n",
       "      <td>76.918058</td>\n",
       "      <td>76.179963</td>\n",
       "    </tr>\n",
       "    <tr>\n",
       "      <th>Griffin High School</th>\n",
       "      <td>82.044010</td>\n",
       "      <td>84.229064</td>\n",
       "      <td>83.842105</td>\n",
       "      <td>83.356164</td>\n",
       "    </tr>\n",
       "    <tr>\n",
       "      <th>Hernandez High School</th>\n",
       "      <td>77.438495</td>\n",
       "      <td>77.337408</td>\n",
       "      <td>77.136029</td>\n",
       "      <td>77.186567</td>\n",
       "    </tr>\n",
       "    <tr>\n",
       "      <th>Holden High School</th>\n",
       "      <td>83.787402</td>\n",
       "      <td>83.429825</td>\n",
       "      <td>85.000000</td>\n",
       "      <td>82.855422</td>\n",
       "    </tr>\n",
       "    <tr>\n",
       "      <th>Huang High School</th>\n",
       "      <td>77.027251</td>\n",
       "      <td>75.908735</td>\n",
       "      <td>76.446602</td>\n",
       "      <td>77.225641</td>\n",
       "    </tr>\n",
       "    <tr>\n",
       "      <th>Johnson High School</th>\n",
       "      <td>77.187857</td>\n",
       "      <td>76.691117</td>\n",
       "      <td>77.491653</td>\n",
       "      <td>76.863248</td>\n",
       "    </tr>\n",
       "    <tr>\n",
       "      <th>Pena High School</th>\n",
       "      <td>83.625455</td>\n",
       "      <td>83.372000</td>\n",
       "      <td>84.328125</td>\n",
       "      <td>84.121547</td>\n",
       "    </tr>\n",
       "    <tr>\n",
       "      <th>Rodriguez High School</th>\n",
       "      <td>76.859966</td>\n",
       "      <td>76.612500</td>\n",
       "      <td>76.395626</td>\n",
       "      <td>77.690748</td>\n",
       "    </tr>\n",
       "    <tr>\n",
       "      <th>Shelton High School</th>\n",
       "      <td>83.420755</td>\n",
       "      <td>82.917411</td>\n",
       "      <td>83.383495</td>\n",
       "      <td>83.778976</td>\n",
       "    </tr>\n",
       "    <tr>\n",
       "      <th>Thomas High School</th>\n",
       "      <td>83.590022</td>\n",
       "      <td>83.087886</td>\n",
       "      <td>83.498795</td>\n",
       "      <td>83.497041</td>\n",
       "    </tr>\n",
       "    <tr>\n",
       "      <th>Wilson High School</th>\n",
       "      <td>83.085578</td>\n",
       "      <td>83.724422</td>\n",
       "      <td>83.195326</td>\n",
       "      <td>83.035794</td>\n",
       "    </tr>\n",
       "    <tr>\n",
       "      <th>Wright High School</th>\n",
       "      <td>83.264706</td>\n",
       "      <td>84.010288</td>\n",
       "      <td>83.836782</td>\n",
       "      <td>83.644986</td>\n",
       "    </tr>\n",
       "  </tbody>\n",
       "</table>\n",
       "</div>"
      ],
      "text/plain": [
       "                       9th grade Avg Math Score   10th grade Avg Math Score   \\\n",
       "school_name                                                                    \n",
       "Bailey High School                     77.083676                   76.996772   \n",
       "Cabrera High School                    83.094697                   83.154506   \n",
       "Figueroa High School                   76.403037                   76.539974   \n",
       "Ford High School                       77.361345                   77.672316   \n",
       "Griffin High School                    82.044010                   84.229064   \n",
       "Hernandez High School                  77.438495                   77.337408   \n",
       "Holden High School                     83.787402                   83.429825   \n",
       "Huang High School                      77.027251                   75.908735   \n",
       "Johnson High School                    77.187857                   76.691117   \n",
       "Pena High School                       83.625455                   83.372000   \n",
       "Rodriguez High School                  76.859966                   76.612500   \n",
       "Shelton High School                    83.420755                   82.917411   \n",
       "Thomas High School                     83.590022                   83.087886   \n",
       "Wilson High School                     83.085578                   83.724422   \n",
       "Wright High School                     83.264706                   84.010288   \n",
       "\n",
       "                       11th grade Avg Math Score   12th grade Avg Math Score   \n",
       "school_name                                                                    \n",
       "Bailey High School                      77.515588                   76.492218  \n",
       "Cabrera High School                     82.765560                   83.277487  \n",
       "Figueroa High School                    76.884344                   77.151369  \n",
       "Ford High School                        76.918058                   76.179963  \n",
       "Griffin High School                     83.842105                   83.356164  \n",
       "Hernandez High School                   77.136029                   77.186567  \n",
       "Holden High School                      85.000000                   82.855422  \n",
       "Huang High School                       76.446602                   77.225641  \n",
       "Johnson High School                     77.491653                   76.863248  \n",
       "Pena High School                        84.328125                   84.121547  \n",
       "Rodriguez High School                   76.395626                   77.690748  \n",
       "Shelton High School                     83.383495                   83.778976  \n",
       "Thomas High School                      83.498795                   83.497041  \n",
       "Wilson High School                      83.195326                   83.035794  \n",
       "Wright High School                      83.836782                   83.644986  "
      ]
     },
     "execution_count": 133,
     "metadata": {},
     "output_type": "execute_result"
    }
   ],
   "source": [
    "schoolMathMeans"
   ]
  },
  {
   "cell_type": "code",
   "execution_count": null,
   "metadata": {},
   "outputs": [],
   "source": []
  },
  {
   "cell_type": "code",
   "execution_count": 134,
   "metadata": {},
   "outputs": [],
   "source": [
    "# reading score means by grade\n",
    "schoolReadingMeans = schoolMeansAll[['reading_score9th','reading_score10th','reading_score11th', 'reading_score12th']]\n",
    "schoolReadingMeans = schoolReadingMeans.rename(columns={'reading_score9th' : '9th grade Avg Reading Score ',\n",
    "                                                  'reading_score10th' : '10th grade Avg Reading Score ',\n",
    "                                                  'reading_score11th' : '11th grade Avg Reading Score ', \n",
    "                                                  'reading_score12th' : '12th grade Avg Reading Score '})"
   ]
  },
  {
   "cell_type": "markdown",
   "metadata": {},
   "source": [
    "## Reading Score by Grade "
   ]
  },
  {
   "cell_type": "code",
   "execution_count": 135,
   "metadata": {},
   "outputs": [
    {
     "data": {
      "text/html": [
       "<div>\n",
       "<style scoped>\n",
       "    .dataframe tbody tr th:only-of-type {\n",
       "        vertical-align: middle;\n",
       "    }\n",
       "\n",
       "    .dataframe tbody tr th {\n",
       "        vertical-align: top;\n",
       "    }\n",
       "\n",
       "    .dataframe thead th {\n",
       "        text-align: right;\n",
       "    }\n",
       "</style>\n",
       "<table border=\"1\" class=\"dataframe\">\n",
       "  <thead>\n",
       "    <tr style=\"text-align: right;\">\n",
       "      <th></th>\n",
       "      <th>9th grade Avg Reading Score</th>\n",
       "      <th>10th grade Avg Reading Score</th>\n",
       "      <th>11th grade Avg Reading Score</th>\n",
       "      <th>12th grade Avg Reading Score</th>\n",
       "    </tr>\n",
       "    <tr>\n",
       "      <th>school_name</th>\n",
       "      <th></th>\n",
       "      <th></th>\n",
       "      <th></th>\n",
       "      <th></th>\n",
       "    </tr>\n",
       "  </thead>\n",
       "  <tbody>\n",
       "    <tr>\n",
       "      <th>Bailey High School</th>\n",
       "      <td>81.303155</td>\n",
       "      <td>80.907183</td>\n",
       "      <td>80.945643</td>\n",
       "      <td>80.912451</td>\n",
       "    </tr>\n",
       "    <tr>\n",
       "      <th>Cabrera High School</th>\n",
       "      <td>83.676136</td>\n",
       "      <td>84.253219</td>\n",
       "      <td>83.788382</td>\n",
       "      <td>84.287958</td>\n",
       "    </tr>\n",
       "    <tr>\n",
       "      <th>Figueroa High School</th>\n",
       "      <td>81.198598</td>\n",
       "      <td>81.408912</td>\n",
       "      <td>80.640339</td>\n",
       "      <td>81.384863</td>\n",
       "    </tr>\n",
       "    <tr>\n",
       "      <th>Ford High School</th>\n",
       "      <td>80.632653</td>\n",
       "      <td>81.262712</td>\n",
       "      <td>80.403642</td>\n",
       "      <td>80.662338</td>\n",
       "    </tr>\n",
       "    <tr>\n",
       "      <th>Griffin High School</th>\n",
       "      <td>83.369193</td>\n",
       "      <td>83.706897</td>\n",
       "      <td>84.288089</td>\n",
       "      <td>84.013699</td>\n",
       "    </tr>\n",
       "    <tr>\n",
       "      <th>Hernandez High School</th>\n",
       "      <td>80.866860</td>\n",
       "      <td>80.660147</td>\n",
       "      <td>81.396140</td>\n",
       "      <td>80.857143</td>\n",
       "    </tr>\n",
       "    <tr>\n",
       "      <th>Holden High School</th>\n",
       "      <td>83.677165</td>\n",
       "      <td>83.324561</td>\n",
       "      <td>83.815534</td>\n",
       "      <td>84.698795</td>\n",
       "    </tr>\n",
       "    <tr>\n",
       "      <th>Huang High School</th>\n",
       "      <td>81.290284</td>\n",
       "      <td>81.512386</td>\n",
       "      <td>81.417476</td>\n",
       "      <td>80.305983</td>\n",
       "    </tr>\n",
       "    <tr>\n",
       "      <th>Johnson High School</th>\n",
       "      <td>81.260714</td>\n",
       "      <td>80.773431</td>\n",
       "      <td>80.616027</td>\n",
       "      <td>81.227564</td>\n",
       "    </tr>\n",
       "    <tr>\n",
       "      <th>Pena High School</th>\n",
       "      <td>83.807273</td>\n",
       "      <td>83.612000</td>\n",
       "      <td>84.335938</td>\n",
       "      <td>84.591160</td>\n",
       "    </tr>\n",
       "    <tr>\n",
       "      <th>Rodriguez High School</th>\n",
       "      <td>80.993127</td>\n",
       "      <td>80.629808</td>\n",
       "      <td>80.864811</td>\n",
       "      <td>80.376426</td>\n",
       "    </tr>\n",
       "    <tr>\n",
       "      <th>Shelton High School</th>\n",
       "      <td>84.122642</td>\n",
       "      <td>83.441964</td>\n",
       "      <td>84.373786</td>\n",
       "      <td>82.781671</td>\n",
       "    </tr>\n",
       "    <tr>\n",
       "      <th>Thomas High School</th>\n",
       "      <td>83.728850</td>\n",
       "      <td>84.254157</td>\n",
       "      <td>83.585542</td>\n",
       "      <td>83.831361</td>\n",
       "    </tr>\n",
       "    <tr>\n",
       "      <th>Wilson High School</th>\n",
       "      <td>83.939778</td>\n",
       "      <td>84.021452</td>\n",
       "      <td>83.764608</td>\n",
       "      <td>84.317673</td>\n",
       "    </tr>\n",
       "    <tr>\n",
       "      <th>Wright High School</th>\n",
       "      <td>83.833333</td>\n",
       "      <td>83.812757</td>\n",
       "      <td>84.156322</td>\n",
       "      <td>84.073171</td>\n",
       "    </tr>\n",
       "  </tbody>\n",
       "</table>\n",
       "</div>"
      ],
      "text/plain": [
       "                       9th grade Avg Reading Score   \\\n",
       "school_name                                           \n",
       "Bailey High School                        81.303155   \n",
       "Cabrera High School                       83.676136   \n",
       "Figueroa High School                      81.198598   \n",
       "Ford High School                          80.632653   \n",
       "Griffin High School                       83.369193   \n",
       "Hernandez High School                     80.866860   \n",
       "Holden High School                        83.677165   \n",
       "Huang High School                         81.290284   \n",
       "Johnson High School                       81.260714   \n",
       "Pena High School                          83.807273   \n",
       "Rodriguez High School                     80.993127   \n",
       "Shelton High School                       84.122642   \n",
       "Thomas High School                        83.728850   \n",
       "Wilson High School                        83.939778   \n",
       "Wright High School                        83.833333   \n",
       "\n",
       "                       10th grade Avg Reading Score   \\\n",
       "school_name                                            \n",
       "Bailey High School                         80.907183   \n",
       "Cabrera High School                        84.253219   \n",
       "Figueroa High School                       81.408912   \n",
       "Ford High School                           81.262712   \n",
       "Griffin High School                        83.706897   \n",
       "Hernandez High School                      80.660147   \n",
       "Holden High School                         83.324561   \n",
       "Huang High School                          81.512386   \n",
       "Johnson High School                        80.773431   \n",
       "Pena High School                           83.612000   \n",
       "Rodriguez High School                      80.629808   \n",
       "Shelton High School                        83.441964   \n",
       "Thomas High School                         84.254157   \n",
       "Wilson High School                         84.021452   \n",
       "Wright High School                         83.812757   \n",
       "\n",
       "                       11th grade Avg Reading Score   \\\n",
       "school_name                                            \n",
       "Bailey High School                         80.945643   \n",
       "Cabrera High School                        83.788382   \n",
       "Figueroa High School                       80.640339   \n",
       "Ford High School                           80.403642   \n",
       "Griffin High School                        84.288089   \n",
       "Hernandez High School                      81.396140   \n",
       "Holden High School                         83.815534   \n",
       "Huang High School                          81.417476   \n",
       "Johnson High School                        80.616027   \n",
       "Pena High School                           84.335938   \n",
       "Rodriguez High School                      80.864811   \n",
       "Shelton High School                        84.373786   \n",
       "Thomas High School                         83.585542   \n",
       "Wilson High School                         83.764608   \n",
       "Wright High School                         84.156322   \n",
       "\n",
       "                       12th grade Avg Reading Score   \n",
       "school_name                                           \n",
       "Bailey High School                         80.912451  \n",
       "Cabrera High School                        84.287958  \n",
       "Figueroa High School                       81.384863  \n",
       "Ford High School                           80.662338  \n",
       "Griffin High School                        84.013699  \n",
       "Hernandez High School                      80.857143  \n",
       "Holden High School                         84.698795  \n",
       "Huang High School                          80.305983  \n",
       "Johnson High School                        81.227564  \n",
       "Pena High School                           84.591160  \n",
       "Rodriguez High School                      80.376426  \n",
       "Shelton High School                        82.781671  \n",
       "Thomas High School                         83.831361  \n",
       "Wilson High School                         84.317673  \n",
       "Wright High School                         84.073171  "
      ]
     },
     "execution_count": 135,
     "metadata": {},
     "output_type": "execute_result"
    }
   ],
   "source": [
    "schoolReadingMeans"
   ]
  },
  {
   "cell_type": "code",
   "execution_count": null,
   "metadata": {},
   "outputs": [],
   "source": []
  },
  {
   "cell_type": "code",
   "execution_count": 136,
   "metadata": {},
   "outputs": [],
   "source": [
    "school_data_complete['per student budget'] = school_data_complete['budget']/school_data_complete['size']"
   ]
  },
  {
   "cell_type": "code",
   "execution_count": 137,
   "metadata": {},
   "outputs": [],
   "source": [
    "# school spending\n",
    "\n",
    "# bin data\n",
    "bins = [0, 580, 625, 645, 700]\n",
    "labels = ['<$580', '$581-625', '$626-645', '$645-700']\n",
    "\n",
    "school_data_complete['bin'] = pd.cut(school_data_complete[\"per student budget\"], bins, labels=labels, include_lowest=True)"
   ]
  },
  {
   "cell_type": "code",
   "execution_count": 138,
   "metadata": {},
   "outputs": [],
   "source": [
    "# extract only scores\n",
    "schoolDataBin = school_data_complete[['reading_score','math_score','bin']]"
   ]
  },
  {
   "cell_type": "code",
   "execution_count": 139,
   "metadata": {},
   "outputs": [],
   "source": [
    "# count totals in each bin\n",
    "schoolBinTotal = (schoolDataBin.groupby('bin')).count()"
   ]
  },
  {
   "cell_type": "code",
   "execution_count": 140,
   "metadata": {},
   "outputs": [],
   "source": [
    "# math score means for each bin\n",
    "schoolBinData = (schoolDataBin.groupby('bin')).mean()\n",
    "schoolBinData = pd.merge(schoolBinData,schoolBinTotal, on='bin')\n",
    "schoolBinData = schoolBinData.rename(columns={'reading_score_x':'Average Math Score',\n",
    "                                              'math_score_x':'Average Reading Score',\n",
    "                                              'math_score_y':'totalStudents'})"
   ]
  },
  {
   "cell_type": "code",
   "execution_count": 141,
   "metadata": {},
   "outputs": [],
   "source": [
    "schoolDataBinPassMath = schoolDataBin.loc[schoolDataBin['math_score'] >= 70,:]\n",
    "schoolDataBinPassMathCount = (schoolDataBinPassMath.groupby('bin')).count()\n",
    "schoolDataBinPassMathCount\n",
    "\n",
    "schoolBinData = pd.merge(schoolBinData, schoolDataBinPassMathCount, on='bin')\n",
    "\n",
    "schoolBinData['% Passing Math'] = (schoolBinData['math_score']/schoolBinData['totalStudents'])*100"
   ]
  },
  {
   "cell_type": "code",
   "execution_count": 142,
   "metadata": {},
   "outputs": [],
   "source": [
    "schoolBinData = schoolBinData[['Average Math Score', 'Average Reading Score', '% Passing Math', 'totalStudents']]"
   ]
  },
  {
   "cell_type": "code",
   "execution_count": 143,
   "metadata": {},
   "outputs": [],
   "source": [
    "schoolDataBinPassRead = schoolDataBin.loc[schoolDataBin['reading_score'] >= 70,:]\n",
    "schoolDataBinPassReadCount = (schoolDataBinPassRead.groupby('bin')).count()\n",
    "schoolBinData = pd.merge(schoolBinData, schoolDataBinPassReadCount, on='bin')\n",
    "schoolBinData['% Passing Reading'] = (schoolBinData['reading_score']/schoolBinData['totalStudents'])*100"
   ]
  },
  {
   "cell_type": "code",
   "execution_count": 144,
   "metadata": {},
   "outputs": [],
   "source": [
    "# clean data, drop columns not needed\n",
    "schoolBinData = schoolBinData[['Average Math Score', 'Average Reading Score', '% Passing Math', '% Passing Reading','totalStudents']]"
   ]
  },
  {
   "cell_type": "code",
   "execution_count": 145,
   "metadata": {},
   "outputs": [],
   "source": [
    "schoolDataBinPass = schoolDataBin.loc[(schoolDataBin['math_score'] >= 70) & (schoolDataBin['reading_score'] >= 70),:]\n",
    "schoolDataBinPassCount = (schoolDataBinPass.groupby('bin')).count()\n",
    "schoolBinData = pd.merge(schoolBinData, schoolDataBinPassCount, on='bin')\n",
    "schoolBinData['% Passing Overall'] = (schoolBinData['reading_score']/schoolBinData['totalStudents'])*100"
   ]
  },
  {
   "cell_type": "code",
   "execution_count": 146,
   "metadata": {},
   "outputs": [],
   "source": [
    "# clean data, drop columns not needed\n",
    "schoolBinData = schoolBinData[['Average Math Score', 'Average Reading Score', \n",
    "                               '% Passing Math', '% Passing Reading','% Passing Overall']]"
   ]
  },
  {
   "cell_type": "markdown",
   "metadata": {},
   "source": [
    "## Scores by School Spending"
   ]
  },
  {
   "cell_type": "code",
   "execution_count": 147,
   "metadata": {},
   "outputs": [
    {
     "data": {
      "text/html": [
       "<div>\n",
       "<style scoped>\n",
       "    .dataframe tbody tr th:only-of-type {\n",
       "        vertical-align: middle;\n",
       "    }\n",
       "\n",
       "    .dataframe tbody tr th {\n",
       "        vertical-align: top;\n",
       "    }\n",
       "\n",
       "    .dataframe thead th {\n",
       "        text-align: right;\n",
       "    }\n",
       "</style>\n",
       "<table border=\"1\" class=\"dataframe\">\n",
       "  <thead>\n",
       "    <tr style=\"text-align: right;\">\n",
       "      <th></th>\n",
       "      <th>Average Math Score</th>\n",
       "      <th>Average Reading Score</th>\n",
       "      <th>% Passing Math</th>\n",
       "      <th>% Passing Reading</th>\n",
       "      <th>% Passing Overall</th>\n",
       "    </tr>\n",
       "    <tr>\n",
       "      <th>bin</th>\n",
       "      <th></th>\n",
       "      <th></th>\n",
       "      <th></th>\n",
       "      <th></th>\n",
       "      <th></th>\n",
       "    </tr>\n",
       "  </thead>\n",
       "  <tbody>\n",
       "    <tr>\n",
       "      <th>&lt;$580</th>\n",
       "      <td>83.989488</td>\n",
       "      <td>83.274201</td>\n",
       "      <td>93.867718</td>\n",
       "      <td>96.539641</td>\n",
       "      <td>90.582567</td>\n",
       "    </tr>\n",
       "    <tr>\n",
       "      <th>$581-625</th>\n",
       "      <td>83.889560</td>\n",
       "      <td>83.440188</td>\n",
       "      <td>93.740938</td>\n",
       "      <td>96.544224</td>\n",
       "      <td>90.478492</td>\n",
       "    </tr>\n",
       "    <tr>\n",
       "      <th>$626-645</th>\n",
       "      <td>81.219475</td>\n",
       "      <td>77.585164</td>\n",
       "      <td>69.419561</td>\n",
       "      <td>82.396613</td>\n",
       "      <td>57.559210</td>\n",
       "    </tr>\n",
       "    <tr>\n",
       "      <th>$645-700</th>\n",
       "      <td>81.005604</td>\n",
       "      <td>77.049297</td>\n",
       "      <td>66.230813</td>\n",
       "      <td>81.109397</td>\n",
       "      <td>53.528791</td>\n",
       "    </tr>\n",
       "  </tbody>\n",
       "</table>\n",
       "</div>"
      ],
      "text/plain": [
       "          Average Math Score  Average Reading Score  % Passing Math  \\\n",
       "bin                                                                   \n",
       "<$580              83.989488              83.274201       93.867718   \n",
       "$581-625           83.889560              83.440188       93.740938   \n",
       "$626-645           81.219475              77.585164       69.419561   \n",
       "$645-700           81.005604              77.049297       66.230813   \n",
       "\n",
       "          % Passing Reading  % Passing Overall  \n",
       "bin                                             \n",
       "<$580             96.539641          90.582567  \n",
       "$581-625          96.544224          90.478492  \n",
       "$626-645          82.396613          57.559210  \n",
       "$645-700          81.109397          53.528791  "
      ]
     },
     "execution_count": 147,
     "metadata": {},
     "output_type": "execute_result"
    }
   ],
   "source": [
    "schoolBinData"
   ]
  },
  {
   "cell_type": "code",
   "execution_count": null,
   "metadata": {},
   "outputs": [],
   "source": []
  },
  {
   "cell_type": "code",
   "execution_count": 184,
   "metadata": {
    "scrolled": true
   },
   "outputs": [
    {
     "name": "stderr",
     "output_type": "stream",
     "text": [
      "<ipython-input-184-60de0dec0886>:8: SettingWithCopyWarning: \n",
      "A value is trying to be set on a copy of a slice from a DataFrame.\n",
      "Try using .loc[row_indexer,col_indexer] = value instead\n",
      "\n",
      "See the caveats in the documentation: https://pandas.pydata.org/pandas-docs/stable/user_guide/indexing.html#returning-a-view-versus-a-copy\n",
      "  studentScoreData['szbin'] = pd.cut(school_data_complete[\"size\"], sz_bin, labels=sz_labels, include_lowest=True)\n"
     ]
    }
   ],
   "source": [
    "studentScoreData = school_data_complete[['Student ID','math_score','reading_score','size']]\n",
    "\n",
    "\n",
    "# bins according to school size\n",
    "sz_bin = [0, 1000, 2000, 5000]\n",
    "sz_labels = ['Small (<1000)', 'Medium (1000-2000)', ' Large (2000-5000)']\n",
    "\n",
    "studentScoreData['szbin'] = pd.cut(school_data_complete[\"size\"], sz_bin, labels=sz_labels, include_lowest=True)"
   ]
  },
  {
   "cell_type": "code",
   "execution_count": 185,
   "metadata": {},
   "outputs": [],
   "source": [
    "studentScoreCount = studentScoreData.groupby(studentScoreData['szbin']).count()"
   ]
  },
  {
   "cell_type": "code",
   "execution_count": 186,
   "metadata": {},
   "outputs": [],
   "source": [
    "studentScoreBySize = studentScoreData.groupby(studentScoreData['szbin']).mean()\n",
    "studentScoreBySize = pd.merge(studentScoreBySize,studentScoreCount, on='szbin')\n",
    "\n",
    "studentScoreBySize = studentScoreBySize[['math_score_x','reading_score_x','Student ID_y']]\n",
    "studentScoreBySize = studentScoreBySize.rename(columns={'math_score_x':'Average Math Score',\n",
    "                                                        'reading_score_x':'Average Reading Score',\n",
    "                                                        'Student ID_y':'studentCount'})"
   ]
  },
  {
   "cell_type": "code",
   "execution_count": 187,
   "metadata": {},
   "outputs": [],
   "source": [
    "# extract only students passing math \n",
    "studentPassMath_sz = studentScoreData.loc[studentScoreData['math_score'] >= 70,:]\n",
    "passMathCount_sz = studentPassMath_sz.groupby(studentPassMath_sz['szbin']).count()\n",
    "\n",
    "studentScoreBySize = pd.merge(studentScoreBySize, passMathCount_sz, on='szbin')\n",
    "studentScoreBySize = studentScoreBySize[['Average Math Score', 'Average Reading Score', 'studentCount', 'Student ID']]"
   ]
  },
  {
   "cell_type": "code",
   "execution_count": 188,
   "metadata": {},
   "outputs": [],
   "source": [
    "studentScoreBySize['% Passing Math'] = (studentScoreBySize['Student ID']/studentScoreBySize['studentCount'])*100\n",
    "#studentScoreBySize = studentScoreBySize.rename(columns={'Student ID':''})"
   ]
  },
  {
   "cell_type": "code",
   "execution_count": 189,
   "metadata": {},
   "outputs": [],
   "source": [
    "# extract only students passing reading \n",
    "studentPassRead_sz = studentScoreData.loc[studentScoreData['reading_score'] >= 70,:]\n",
    "passReadCount_sz = studentPassRead_sz.groupby(studentPassRead_sz['szbin']).count()\n",
    "\n",
    "studentScoreBySize = pd.merge(studentScoreBySize, passReadCount_sz, on='szbin')"
   ]
  },
  {
   "cell_type": "code",
   "execution_count": 190,
   "metadata": {},
   "outputs": [],
   "source": [
    "studentScoreBySize = studentScoreBySize[['Average Math Score', 'Average Reading Score', \n",
    "                                         '% Passing Math', 'studentCount', 'reading_score']]"
   ]
  },
  {
   "cell_type": "code",
   "execution_count": 191,
   "metadata": {},
   "outputs": [],
   "source": [
    "studentScoreBySize['% Passing Reading'] = (studentScoreBySize['reading_score']/studentScoreBySize['studentCount'])*100\n",
    "studentScoreBySize = studentScoreBySize[['Average Math Score', 'Average Reading Score', \n",
    "                                         '% Passing Math', '% Passing Reading','studentCount']]"
   ]
  },
  {
   "cell_type": "code",
   "execution_count": 192,
   "metadata": {},
   "outputs": [],
   "source": [
    "studentPassAll_sz = studentScoreData.loc[(studentScoreData['reading_score'] >= 70) & (studentScoreData['math_score'] >= 70),:]\n",
    "studentPassAll_sz\n",
    "passAllCount_sz = studentPassAll_sz.groupby(studentPassAll_sz['szbin']).count()\n",
    "passAllCount_sz\n",
    "studentScoreBySize = pd.merge(studentScoreBySize, passAllCount_sz, on='szbin')"
   ]
  },
  {
   "cell_type": "code",
   "execution_count": 193,
   "metadata": {},
   "outputs": [],
   "source": [
    "studentScoreBySize['% Passing Overall']=(studentScoreBySize['Student ID']/studentScoreBySize['studentCount'])*100\n",
    "studentScoreBySize = studentScoreBySize[['Average Math Score','Average Reading Score', \n",
    "                                         '% Passing Math','% Passing Reading','% Passing Overall']]"
   ]
  },
  {
   "cell_type": "markdown",
   "metadata": {},
   "source": [
    "## Scores by School Size"
   ]
  },
  {
   "cell_type": "code",
   "execution_count": 194,
   "metadata": {},
   "outputs": [
    {
     "data": {
      "text/html": [
       "<div>\n",
       "<style scoped>\n",
       "    .dataframe tbody tr th:only-of-type {\n",
       "        vertical-align: middle;\n",
       "    }\n",
       "\n",
       "    .dataframe tbody tr th {\n",
       "        vertical-align: top;\n",
       "    }\n",
       "\n",
       "    .dataframe thead th {\n",
       "        text-align: right;\n",
       "    }\n",
       "</style>\n",
       "<table border=\"1\" class=\"dataframe\">\n",
       "  <thead>\n",
       "    <tr style=\"text-align: right;\">\n",
       "      <th></th>\n",
       "      <th>Average Math Score</th>\n",
       "      <th>Average Reading Score</th>\n",
       "      <th>% Passing Math</th>\n",
       "      <th>% Passing Reading</th>\n",
       "      <th>% Passing Overall</th>\n",
       "    </tr>\n",
       "    <tr>\n",
       "      <th>szbin</th>\n",
       "      <th></th>\n",
       "      <th></th>\n",
       "      <th></th>\n",
       "      <th></th>\n",
       "      <th></th>\n",
       "    </tr>\n",
       "  </thead>\n",
       "  <tbody>\n",
       "    <tr>\n",
       "      <th>Small (&lt;1000)</th>\n",
       "      <td>83.828654</td>\n",
       "      <td>83.974082</td>\n",
       "      <td>93.952484</td>\n",
       "      <td>96.040317</td>\n",
       "      <td>90.136789</td>\n",
       "    </tr>\n",
       "    <tr>\n",
       "      <th>Medium (1000-2000)</th>\n",
       "      <td>83.372682</td>\n",
       "      <td>83.867989</td>\n",
       "      <td>93.616522</td>\n",
       "      <td>96.773058</td>\n",
       "      <td>90.624267</td>\n",
       "    </tr>\n",
       "    <tr>\n",
       "      <th>Large (2000-5000)</th>\n",
       "      <td>77.477597</td>\n",
       "      <td>81.198674</td>\n",
       "      <td>68.652380</td>\n",
       "      <td>82.125158</td>\n",
       "      <td>56.574046</td>\n",
       "    </tr>\n",
       "  </tbody>\n",
       "</table>\n",
       "</div>"
      ],
      "text/plain": [
       "                    Average Math Score  Average Reading Score  % Passing Math  \\\n",
       "szbin                                                                           \n",
       "Small (<1000)                83.828654              83.974082       93.952484   \n",
       "Medium (1000-2000)           83.372682              83.867989       93.616522   \n",
       " Large (2000-5000)           77.477597              81.198674       68.652380   \n",
       "\n",
       "                    % Passing Reading  % Passing Overall  \n",
       "szbin                                                     \n",
       "Small (<1000)               96.040317          90.136789  \n",
       "Medium (1000-2000)          96.773058          90.624267  \n",
       " Large (2000-5000)          82.125158          56.574046  "
      ]
     },
     "execution_count": 194,
     "metadata": {},
     "output_type": "execute_result"
    }
   ],
   "source": [
    "studentScoreBySize"
   ]
  },
  {
   "cell_type": "code",
   "execution_count": null,
   "metadata": {},
   "outputs": [],
   "source": []
  },
  {
   "cell_type": "code",
   "execution_count": 195,
   "metadata": {},
   "outputs": [],
   "source": [
    "# group by school type\n",
    "studentTotalsType = school_data_complete.groupby(school_data_complete['type']).count()\n",
    "studentScoreByType = school_data_complete.groupby(school_data_complete['type']).mean()\n",
    "studentScoreByType = pd.merge(studentScoreByType, studentTotalsType, on='type')\n",
    "studentScoreByType = studentScoreByType.rename(columns={'math_score_x':'Average Math Score',\n",
    "                                                       'reading_score_x':'Average Reading Score'})\n",
    "\n",
    "studentScoreByType = studentScoreByType[['Average Math Score', 'Average Reading Score', 'Student ID_y']]\n",
    "studentScoreByType = studentScoreByType.rename(columns={'Student ID_y':'studentCnt'})"
   ]
  },
  {
   "cell_type": "code",
   "execution_count": 196,
   "metadata": {},
   "outputs": [],
   "source": [
    "# passing math\n",
    "studentPassMath_Type = school_data_complete.loc[school_data_complete['math_score'] >= 70]\n",
    "studentPassMathCount_Type = (studentPassMath_Type.groupby(studentPassMath_Type['type'])).count()"
   ]
  },
  {
   "cell_type": "code",
   "execution_count": 197,
   "metadata": {},
   "outputs": [],
   "source": [
    "studentScoreByType = pd.merge(studentScoreByType, studentPassMathCount_Type, on='type')\n",
    "studentScoreByType['% Passing Math'] = (studentScoreByType['grade']/studentScoreByType['studentCnt'])*100\n",
    "studentScoreByType = studentScoreByType[['Average Math Score', 'Average Reading Score', '% Passing Math', 'studentCnt']]"
   ]
  },
  {
   "cell_type": "code",
   "execution_count": 198,
   "metadata": {},
   "outputs": [],
   "source": [
    "# passing reading\n",
    "studentPassRead_Type = school_data_complete.loc[school_data_complete['reading_score'] >= 70]\n",
    "studentPassReadCount_Type = (studentPassRead_Type.groupby(studentPassRead_Type['type'])).count()"
   ]
  },
  {
   "cell_type": "code",
   "execution_count": 199,
   "metadata": {},
   "outputs": [],
   "source": [
    "studentScoreByType = pd.merge(studentScoreByType, studentPassReadCount_Type, on='type')\n",
    "studentScoreByType['% Passing Reading'] = (studentScoreByType['grade']/studentScoreByType['studentCnt'])*100\n",
    "studentScoreByType = studentScoreByType[['Average Math Score', 'Average Reading Score', '% Passing Math', '% Passing Reading','studentCnt']]\n"
   ]
  },
  {
   "cell_type": "code",
   "execution_count": 200,
   "metadata": {},
   "outputs": [],
   "source": [
    "\n",
    "studPassAll_Type = school_data_complete.loc[(school_data_complete['math_score'] >= 70) & \n",
    "                                            (school_data_complete['reading_score'] >= 70),:]\n",
    "\n",
    "studPassAllCount_Type = (studPassAll_Type.groupby(studPassAll_Type['type'])).count()"
   ]
  },
  {
   "cell_type": "code",
   "execution_count": 201,
   "metadata": {},
   "outputs": [],
   "source": [
    "studentScoreByType = pd.merge(studentScoreByType, studPassAllCount_Type, on='type')\n",
    "studentScoreByType['% Passing Overall'] = (studentScoreByType['grade']/studentScoreByType['studentCnt'])*100"
   ]
  },
  {
   "cell_type": "code",
   "execution_count": 202,
   "metadata": {},
   "outputs": [],
   "source": [
    "studentScoreByType = studentScoreByType[['Average Math Score',\n",
    "                                         'Average Reading Score',\n",
    "                                         '% Passing Math',\n",
    "                                         '% Passing Reading',\n",
    "                                         '% Passing Overall']]"
   ]
  },
  {
   "cell_type": "markdown",
   "metadata": {},
   "source": [
    "## Scores by School Type"
   ]
  },
  {
   "cell_type": "code",
   "execution_count": 203,
   "metadata": {},
   "outputs": [
    {
     "data": {
      "text/html": [
       "<div>\n",
       "<style scoped>\n",
       "    .dataframe tbody tr th:only-of-type {\n",
       "        vertical-align: middle;\n",
       "    }\n",
       "\n",
       "    .dataframe tbody tr th {\n",
       "        vertical-align: top;\n",
       "    }\n",
       "\n",
       "    .dataframe thead th {\n",
       "        text-align: right;\n",
       "    }\n",
       "</style>\n",
       "<table border=\"1\" class=\"dataframe\">\n",
       "  <thead>\n",
       "    <tr style=\"text-align: right;\">\n",
       "      <th></th>\n",
       "      <th>Average Math Score</th>\n",
       "      <th>Average Reading Score</th>\n",
       "      <th>% Passing Math</th>\n",
       "      <th>% Passing Reading</th>\n",
       "      <th>% Passing Overall</th>\n",
       "    </tr>\n",
       "    <tr>\n",
       "      <th>type</th>\n",
       "      <th></th>\n",
       "      <th></th>\n",
       "      <th></th>\n",
       "      <th></th>\n",
       "      <th></th>\n",
       "    </tr>\n",
       "  </thead>\n",
       "  <tbody>\n",
       "    <tr>\n",
       "      <th>Charter</th>\n",
       "      <td>83.406183</td>\n",
       "      <td>83.902821</td>\n",
       "      <td>93.701821</td>\n",
       "      <td>96.645891</td>\n",
       "      <td>90.560932</td>\n",
       "    </tr>\n",
       "    <tr>\n",
       "      <th>District</th>\n",
       "      <td>76.987026</td>\n",
       "      <td>80.962485</td>\n",
       "      <td>66.518387</td>\n",
       "      <td>80.905249</td>\n",
       "      <td>53.695878</td>\n",
       "    </tr>\n",
       "  </tbody>\n",
       "</table>\n",
       "</div>"
      ],
      "text/plain": [
       "          Average Math Score  Average Reading Score  % Passing Math  \\\n",
       "type                                                                  \n",
       "Charter            83.406183              83.902821       93.701821   \n",
       "District           76.987026              80.962485       66.518387   \n",
       "\n",
       "          % Passing Reading  % Passing Overall  \n",
       "type                                            \n",
       "Charter           96.645891          90.560932  \n",
       "District          80.905249          53.695878  "
      ]
     },
     "execution_count": 203,
     "metadata": {},
     "output_type": "execute_result"
    }
   ],
   "source": [
    "studentScoreByType"
   ]
  }
 ],
 "metadata": {
  "anaconda-cloud": {},
  "kernel_info": {
   "name": "python3"
  },
  "kernelspec": {
   "display_name": "Python 3",
   "language": "python",
   "name": "python3"
  },
  "language_info": {
   "codemirror_mode": {
    "name": "ipython",
    "version": 3
   },
   "file_extension": ".py",
   "mimetype": "text/x-python",
   "name": "python",
   "nbconvert_exporter": "python",
   "pygments_lexer": "ipython3",
   "version": "3.8.8"
  },
  "latex_envs": {
   "LaTeX_envs_menu_present": true,
   "autoclose": false,
   "autocomplete": true,
   "bibliofile": "biblio.bib",
   "cite_by": "apalike",
   "current_citInitial": 1,
   "eqLabelWithNumbers": true,
   "eqNumInitial": 1,
   "hotkeys": {
    "equation": "Ctrl-E",
    "itemize": "Ctrl-I"
   },
   "labels_anchors": false,
   "latex_user_defs": false,
   "report_style_numbering": false,
   "user_envs_cfg": false
  },
  "nteract": {
   "version": "0.8.4"
  }
 },
 "nbformat": 4,
 "nbformat_minor": 1
}
